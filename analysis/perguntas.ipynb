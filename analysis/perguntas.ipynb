{
 "cells": [
  {
   "cell_type": "markdown",
   "metadata": {
    "application/vnd.databricks.v1+cell": {
     "cellMetadata": {},
     "inputWidgets": {},
     "nuid": "fc21c393-d55e-493b-9b98-9bc3c803b66c",
     "showTitle": false,
     "tableResultSettingsMap": {},
     "title": ""
    }
   },
   "source": [
    "# Análises - NYC Taxi Data (Camada de Consumo)\n",
    "\n",
    "Este notebook contém as análises solicitadas no case técnico iFood.\n",
    "Todas as queries utilizam a camada **Trusted** como fonte de dados.\n",
    "\n",
    "**Autor:** Vinicius  \n",
    "**Data:** 2025\n",
    "\n",
    "## Perguntas a serem respondidas:\n",
    "1. Qual a média de valor total (total_amount) recebido em um mês considerando todos os yellow táxis da frota?\n",
    "2. Qual a média de passageiros (passenger_count) por cada hora do dia que pegaram táxi no mês de maio considerando todos os táxis da frota?"
   ]
  },
  {
   "cell_type": "markdown",
   "metadata": {
    "application/vnd.databricks.v1+cell": {
     "cellMetadata": {},
     "inputWidgets": {},
     "nuid": "9be514f2-9e46-43c5-813c-0df9a672f07e",
     "showTitle": false,
     "tableResultSettingsMap": {},
     "title": ""
    }
   },
   "source": [
    "## 1. Média de Valor Total por Mês\n",
    "\n",
    "Esta análise calcula a média do valor total (total_amount) recebido mensalmente,\n",
    "considerando todas as corridas de yellow táxis registradas no período.\n",
    "\n",
    "**Lógica:**\n",
    "- Extrai o ano e mês da data de pickup\n",
    "- Agrupa por período (ano-mês)\n",
    "- Calcula a média do total_amount\n",
    "- Arredonda para 2 casas decimais\n",
    "- Ordena cronologicamente\n",
    "\n",
    "**Filtros aplicados:**\n",
    "- `total_amount > 0`: Exclui valores negativos ou zero (possíveis estornos/cancelamentos)\n",
    "- `total_amount IS NOT NULL`: Garante apenas dados válidos"
   ]
  },
  {
   "cell_type": "code",
   "execution_count": 0,
   "metadata": {
    "application/vnd.databricks.v1+cell": {
     "cellMetadata": {
      "byteLimit": 2048000,
      "rowLimit": 10000
     },
     "inputWidgets": {},
     "nuid": "dd68539d-55e8-46a8-9ae5-0c88983e306e",
     "showTitle": false,
     "tableResultSettingsMap": {},
     "title": ""
    }
   },
   "outputs": [],
   "source": [
    "SELECT \n",
    "    YEAR(tpep_pickup_datetime) AS ano,\n",
    "    MONTH(tpep_pickup_datetime) AS mes,\n",
    "    CONCAT(\n",
    "        YEAR(tpep_pickup_datetime), \n",
    "        '-', \n",
    "        LPAD(MONTH(tpep_pickup_datetime), 2, '0')\n",
    "    ) AS periodo,\n",
    "    ROUND(AVG(total_amount), 2) AS media_valor_total,\n",
    "    COUNT(*) AS total_corridas,\n",
    "    ROUND(SUM(total_amount), 2) AS valor_total_periodo,\n",
    "    ROUND(MIN(total_amount), 2) AS valor_minimo,\n",
    "    ROUND(MAX(total_amount), 2) AS valor_maximo\n",
    "FROM ifood_catalog.trusted_layer.tb_taxi_data_for_analysis\n",
    "WHERE total_amount IS NOT NULL\n",
    "    AND total_amount > 0\n",
    "    AND YEAR(tpep_pickup_datetime) = 2023\n",
    "    AND MONTH(tpep_pickup_datetime) <= 5\n",
    "GROUP BY \n",
    "    YEAR(tpep_pickup_datetime),\n",
    "    MONTH(tpep_pickup_datetime)\n",
    "ORDER BY ano, mes;"
   ]
  },
  {
   "cell_type": "markdown",
   "metadata": {
    "application/vnd.databricks.v1+cell": {
     "cellMetadata": {},
     "inputWidgets": {},
     "nuid": "4921b14e-28c6-4029-85bd-fd4124ed41bc",
     "showTitle": false,
     "tableResultSettingsMap": {},
     "title": ""
    }
   },
   "source": [
    "## 2. Média de Passageiros por Hora - Maio/2023\n",
    "\n",
    "Esta análise calcula a média de passageiros por hora do dia especificamente\n",
    "para o mês de maio de 2023, considerando todas as corridas da frota.\n",
    "\n",
    "**Lógica:**\n",
    "- Filtra apenas corridas de maio/2023\n",
    "- Extrai a hora do pickup_datetime (0-23)\n",
    "- Agrupa por hora\n",
    "- Calcula média de passenger_count\n",
    "- Arredonda para 2 casas decimais\n",
    "- Inclui total de corridas por hora para contexto\n",
    "\n",
    "**Filtros aplicados:**\n",
    "- `YEAR = 2023 AND MONTH = 5`: Apenas maio/2023\n",
    "- `passenger_count > 0`: Exclui corridas sem passageiros registrados\n",
    "- `passenger_count IS NOT NULL`: Garante dados válidos"
   ]
  },
  {
   "cell_type": "code",
   "execution_count": 0,
   "metadata": {
    "application/vnd.databricks.v1+cell": {
     "cellMetadata": {
      "byteLimit": 2048000,
      "rowLimit": 10000
     },
     "inputWidgets": {},
     "nuid": "058efa19-624a-43e0-be61-db9393283ff5",
     "showTitle": false,
     "tableResultSettingsMap": {},
     "title": ""
    }
   },
   "outputs": [],
   "source": [
    "SELECT \n",
    "    HOUR(tpep_pickup_datetime) AS hora_do_dia,\n",
    "    ROUND(AVG(passenger_count), 2) AS media_passageiros,\n",
    "    COUNT(*) AS total_corridas,\n",
    "    ROUND(SUM(passenger_count), 0) AS total_passageiros,\n",
    "    ROUND(MIN(passenger_count), 0) AS min_passageiros,\n",
    "    ROUND(MAX(passenger_count), 0) AS max_passageiros\n",
    "FROM ifood_catalog.trusted_layer.tb_taxi_data_for_analysis\n",
    "WHERE YEAR(tpep_pickup_datetime) = 2023\n",
    "    AND MONTH(tpep_pickup_datetime) = 5\n",
    "    AND passenger_count IS NOT NULL\n",
    "    AND passenger_count > 0\n",
    "GROUP BY HOUR(tpep_pickup_datetime)\n",
    "ORDER BY hora_do_dia;"
   ]
  },
  {
   "cell_type": "code",
   "execution_count": 0,
   "metadata": {
    "application/vnd.databricks.v1+cell": {
     "cellMetadata": {},
     "inputWidgets": {},
     "nuid": "f1cc9553-fdce-46fd-b196-e2d68d7245fd",
     "showTitle": false,
     "tableResultSettingsMap": {},
     "title": ""
    }
   },
   "outputs": [],
   "source": []
  }
 ],
 "metadata": {
  "application/vnd.databricks.v1+notebook": {
   "computePreferences": null,
   "dashboards": [],
   "environmentMetadata": {
    "base_environment": "",
    "environment_version": "4"
   },
   "inputWidgetPreferences": null,
   "language": "sql",
   "notebookMetadata": {
    "pythonIndentUnit": 4
   },
   "notebookName": "perguntas",
   "widgets": {}
  },
  "language_info": {
   "name": "sql"
  }
 },
 "nbformat": 4,
 "nbformat_minor": 0
}
